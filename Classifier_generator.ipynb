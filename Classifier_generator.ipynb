{
 "cells": [
  {
   "cell_type": "code",
   "execution_count": 18,
   "metadata": {},
   "outputs": [],
   "source": [
    "from sklearn import svm\n",
    "from sklearn.model_selection import train_test_split\n",
    "from sklearn.metrics import classification_report, accuracy_score\n",
    "import utilities as ut\n",
    "import cv2\n",
    "import pandas as pd\n",
    "import numpy as np\n",
    "\n",
    "dataset_paths = ut.images_paths(\"Images/WarpedCards/\")\n",
    "base_cards_paths = ut.images_paths(\"Images/Cards/\")\n",
    "raw_cards_paths = ut.images_paths(\"Images/DatasetRaw/\")\n",
    "\n",
    "work_dir= ut.Config.working_directory\n",
    "\n",
    "\n"
   ]
  },
  {
   "cell_type": "code",
   "execution_count": 19,
   "metadata": {},
   "outputs": [],
   "source": [
    "def append_data(row):\n",
    "    data=row[\"moments\"].copy()\n",
    "    data = np.append(data,row[\"hue\"])\n",
    "    return data"
   ]
  },
  {
   "cell_type": "code",
   "execution_count": 20,
   "metadata": {},
   "outputs": [
    {
     "name": "stdout",
     "output_type": "stream",
     "text": [
      "    value seed label index                                            moments  \\\n",
      "0       A    S    AS    AS  [0.2581170659162546, 0.018958783626795758, 0.0...   \n",
      "1       3    C     3     C  [0.21092238211018885, 0.013110537093808081, 0....   \n",
      "2       R    B    RB     R  [0.2632066499494603, 0.033466400462784346, 0.0...   \n",
      "3       7    C     7     C  [0.22462626181335188, 0.017300361531756, 0.000...   \n",
      "4       R    B    RB     R  [0.25821845467799387, 0.03096020625588564, 0.0...   \n",
      "..    ...  ...   ...   ...                                                ...   \n",
      "955     8    S    8S     8  [0.3318009829753296, 0.050319365024874, 0.0020...   \n",
      "956     6    S     6     S  [0.4968799422586564, 0.20454985849541488, 0.00...   \n",
      "957     6    B     6     B  [0.318713215770589, 0.07313561392319623, 0.003...   \n",
      "958     7    C     7     C  [0.21807169927113218, 0.013013423671528523, 0....   \n",
      "959     A    C    AC    AC  [0.24321402458498348, 0.0282827186936967, 3.59...   \n",
      "\n",
      "           hue                                               data  \n",
      "0    65.974305  [0.2581170659162546, 0.018958783626795758, 0.0...  \n",
      "1    68.410589  [0.21092238211018885, 0.013110537093808081, 0....  \n",
      "2    62.334301  [0.2632066499494603, 0.033466400462784346, 0.0...  \n",
      "3    63.015735  [0.22462626181335188, 0.017300361531756, 0.000...  \n",
      "4    63.005886  [0.25821845467799387, 0.03096020625588564, 0.0...  \n",
      "..         ...                                                ...  \n",
      "955  54.054963  [0.3318009829753296, 0.050319365024874, 0.0020...  \n",
      "956  73.554101  [0.4968799422586564, 0.20454985849541488, 0.00...  \n",
      "957  60.565132  [0.318713215770589, 0.07313561392319623, 0.003...  \n",
      "958  72.353163  [0.21807169927113218, 0.013013423671528523, 0....  \n",
      "959  63.940764  [0.24321402458498348, 0.0282827186936967, 3.59...  \n",
      "\n",
      "[960 rows x 7 columns]\n"
     ]
    }
   ],
   "source": [
    "#Generating dataset with the generated images from Dataset_Generator.ipynb \n",
    "labels = []\n",
    "hu_moments = []\n",
    "average_hue=[]\n",
    "samples=[]\n",
    "for path in dataset_paths:\n",
    "    #Thr dataset is build \n",
    "    properties = ut.label_properties(path)\n",
    "    samples.append(properties)\n",
    "    image = cv2.imread(path)\n",
    "    binary_image,contours = ut.preprocess_image(image)\n",
    "    hue = ut.average_hue_of_contours(image, [contours[0]])\n",
    "    average_hue.append(hue)\n",
    "    moments = cv2.moments(contours[0])\n",
    "    hu_moments.append(cv2.HuMoments(moments).flatten())\n",
    "    \n",
    "df_generated = pd.DataFrame(samples)\n",
    "df_generated[\"moments\"] = hu_moments\n",
    "df_generated[\"hue\"] = average_hue\n",
    "df_generated[\"data\"] = df_generated.apply(append_data,axis=1)\n",
    "print(df_generated)"
   ]
  },
  {
   "cell_type": "code",
   "execution_count": 21,
   "metadata": {},
   "outputs": [
    {
     "name": "stdout",
     "output_type": "stream",
     "text": [
      "   value seed label                                            moments  \\\n",
      "0      7    C     C  [0.22225804081103337, 0.01594525095038476, 0.0...   \n",
      "1      A    C    AC  [0.24305554848722474, 0.028763687428324046, 2....   \n",
      "2      R    B     R  [0.26686700528342994, 0.03424285951895691, 0.0...   \n",
      "3      7    S     7  [0.7296534270326875, 0.1525365272091704, 0.238...   \n",
      "4      8    C     8  [0.40925092982787187, 0.10357475336507306, 0.0...   \n",
      "5      4    O     4  [0.24825667613837687, 0.01543724752987511, 0.0...   \n",
      "6      6    C     C  [0.248431159173635, 0.028764490485784156, 0.00...   \n",
      "7      R    S     R  [0.26074346777962304, 0.030003292785587676, 0....   \n",
      "8      4    C     C  [0.2142792002949413, 0.014672966581150875, 0.0...   \n",
      "9      3    S    3S  [0.3549009320799103, 0.04035568095240079, 0.00...   \n",
      "10     2    C    2C  [0.1870315616498156, 0.00036129249108887343, 0...   \n",
      "11     5    S     5  [0.3911050708229767, 0.050549019411397944, 0.0...   \n",
      "12     8    O     8  [0.44017008618482134, 0.11669742184224707, 0.0...   \n",
      "13     6    O     O  [0.15928087493471363, 7.556384104803091e-06, 2...   \n",
      "14     A    O    AO  [0.21580668923318347, 0.0004187984115530168, 0...   \n",
      "15     4    S     4  [0.6814905143216878, 0.22992435996328944, 0.14...   \n",
      "16     5    B     B  [0.3382004408691672, 0.08553809840674291, 0.00...   \n",
      "17     8    B     8  [0.3731587683786112, 0.07822362640848123, 0.00...   \n",
      "18     A    B    AB  [0.3628797979270638, 0.07498016036708607, 0.00...   \n",
      "19     6    B     B  [0.31774546762858735, 0.07249101316679363, 0.0...   \n",
      "20     A    S    AS  [0.262711910187141, 0.021287811733467867, 0.00...   \n",
      "21     9    O     9  [0.22911590428462808, 0.011509687235114169, 0....   \n",
      "22     R    O     R  [0.28223557568946117, 0.04646127391072247, 0.0...   \n",
      "23     2    S    2S  [0.4934619475557835, 0.06701093385221638, 0.00...   \n",
      "24     5    C     C  [0.22081820302105604, 0.017617822598873595, 0....   \n",
      "25     7    B     B  [0.3845994086345004, 0.11991137745904085, 0.00...   \n",
      "26     R    C     R  [0.2744931135728079, 0.03672275080937855, 0.00...   \n",
      "27     3    O     O  [0.15920006061932845, 1.0004776622748325e-05, ...   \n",
      "28     9    B     9  [0.219045989662919, 0.012902365735005207, 0.00...   \n",
      "29     5    O     O  [0.1591804181889242, 5.052023811789636e-06, 1....   \n",
      "30     3    C     C  [0.21674425124534982, 0.015572396054103424, 0....   \n",
      "31     8    S     8  [0.34779976734545676, 0.054735861136019234, 0....   \n",
      "32     9    C     9  [0.22908125545375474, 0.013641144084977871, 0....   \n",
      "33     4    B     B  [0.31089272439994126, 0.0663940088856462, 0.00...   \n",
      "34     3    B    3B  [0.315491101969616, 0.04702488345740401, 0.003...   \n",
      "35     2    O     O  [0.15919299362630795, 9.419874811678207e-06, 1...   \n",
      "36     7    O     O  [0.15926651534993982, 2.6276452213749426e-06, ...   \n",
      "37     2    B    2B  [0.5262249539596876, 0.24770409144697655, 0.01...   \n",
      "38     9    S     9  [0.2327012009921153, 0.017428553068590077, 0.0...   \n",
      "39     6    S     S  [0.49575127976931044, 0.20362275969530208, 0.0...   \n",
      "\n",
      "          hue                                               data  \n",
      "0   64.036729  [0.22225804081103337, 0.01594525095038476, 0.0...  \n",
      "1   67.182197  [0.24305554848722474, 0.028763687428324046, 2....  \n",
      "2   66.898956  [0.26686700528342994, 0.03424285951895691, 0.0...  \n",
      "3   76.960745  [0.7296534270326875, 0.1525365272091704, 0.238...  \n",
      "4   60.186498  [0.40925092982787187, 0.10357475336507306, 0.0...  \n",
      "5   73.947489  [0.24825667613837687, 0.01543724752987511, 0.0...  \n",
      "6   72.808140  [0.248431159173635, 0.028764490485784156, 0.00...  \n",
      "7   76.951954  [0.26074346777962304, 0.030003292785587676, 0....  \n",
      "8   67.651365  [0.2142792002949413, 0.014672966581150875, 0.0...  \n",
      "9   87.270085  [0.3549009320799103, 0.04035568095240079, 0.00...  \n",
      "10  66.293745  [0.1870315616498156, 0.00036129249108887343, 0...  \n",
      "11  80.083160  [0.3911050708229767, 0.050549019411397944, 0.0...  \n",
      "12  55.977398  [0.44017008618482134, 0.11669742184224707, 0.0...  \n",
      "13  52.678765  [0.15928087493471363, 7.556384104803091e-06, 2...  \n",
      "14  52.691728  [0.21580668923318347, 0.0004187984115530168, 0...  \n",
      "15  69.498078  [0.6814905143216878, 0.22992435996328944, 0.14...  \n",
      "16  57.738174  [0.3382004408691672, 0.08553809840674291, 0.00...  \n",
      "17  62.230901  [0.3731587683786112, 0.07822362640848123, 0.00...  \n",
      "18  55.069909  [0.3628797979270638, 0.07498016036708607, 0.00...  \n",
      "19  65.105543  [0.31774546762858735, 0.07249101316679363, 0.0...  \n",
      "20  66.848797  [0.262711910187141, 0.021287811733467867, 0.00...  \n",
      "21  46.563161  [0.22911590428462808, 0.011509687235114169, 0....  \n",
      "22  67.683734  [0.28223557568946117, 0.04646127391072247, 0.0...  \n",
      "23  84.548765  [0.4934619475557835, 0.06701093385221638, 0.00...  \n",
      "24  68.542359  [0.22081820302105604, 0.017617822598873595, 0....  \n",
      "25  60.380480  [0.3845994086345004, 0.11991137745904085, 0.00...  \n",
      "26  69.287370  [0.2744931135728079, 0.03672275080937855, 0.00...  \n",
      "27  51.441128  [0.15920006061932845, 1.0004776622748325e-05, ...  \n",
      "28  40.963918  [0.219045989662919, 0.012902365735005207, 0.00...  \n",
      "29  52.334168  [0.1591804181889242, 5.052023811789636e-06, 1....  \n",
      "30  70.577016  [0.21674425124534982, 0.015572396054103424, 0....  \n",
      "31  62.069511  [0.34779976734545676, 0.054735861136019234, 0....  \n",
      "32  39.291315  [0.22908125545375474, 0.013641144084977871, 0....  \n",
      "33  67.330848  [0.31089272439994126, 0.0663940088856462, 0.00...  \n",
      "34  57.769371  [0.315491101969616, 0.04702488345740401, 0.003...  \n",
      "35  55.190680  [0.15919299362630795, 9.419874811678207e-06, 1...  \n",
      "36  48.174815  [0.15926651534993982, 2.6276452213749426e-06, ...  \n",
      "37  62.145922  [0.5262249539596876, 0.24770409144697655, 0.01...  \n",
      "38  50.351608  [0.2327012009921153, 0.017428553068590077, 0.0...  \n",
      "39  78.895952  [0.49575127976931044, 0.20362275969530208, 0.0...  \n"
     ]
    }
   ],
   "source": [
    "labels = []\n",
    "hu_moments = []\n",
    "samples=[]\n",
    "average_hue=[]\n",
    "for path in base_cards_paths:\n",
    "    samples.append(ut.label_class_only(path))\n",
    "    image = cv2.imread(path)\n",
    "    binary_image,contours = ut.preprocess_image(image)\n",
    "    hue = ut.average_hue_of_contours(image, [contours[0]])\n",
    "    average_hue.append(hue)\n",
    "    moments = cv2.moments(contours[0])\n",
    "    hu_moments.append(cv2.HuMoments(moments).flatten())\n",
    "df_base = pd.DataFrame(samples)\n",
    "df_base[\"moments\"] = hu_moments\n",
    "df_base[\"hue\"] = average_hue\n",
    "df_base[\"data\"] = df_base.apply(append_data,axis=1)\n",
    "print(df_base)\n"
   ]
  },
  {
   "cell_type": "code",
   "execution_count": 23,
   "metadata": {},
   "outputs": [
    {
     "name": "stdout",
     "output_type": "stream",
     "text": [
      "    value seed label index                                            moments  \\\n",
      "0       6    S     6     5  [0.383983240910995, 0.047983811066619766, 0.02...   \n",
      "1       9    B    9B     5  [0.28931174673063087, 0.022326599154748286, 0....   \n",
      "2       7    C     7     1  [0.2828378056098332, 0.03678020997637223, 0.00...   \n",
      "3       3    C     3     4  [0.35973695345914136, 0.06275699092305194, 0.0...   \n",
      "4       4    O    4O     1  [0.20021113881672867, 0.00792466795431179, 0.0...   \n",
      "..    ...  ...   ...   ...                                                ...   \n",
      "179     R    O    RO     3  [0.34851618899648384, 0.03643704346651127, 0.0...   \n",
      "180     7    O     7     4  [0.34524673790854987, 0.048394303635566654, 0....   \n",
      "181     9    O    9O     4  [0.25525496737629705, 0.011855235117309034, 0....   \n",
      "182     6    B     6     2  [0.2276228615367406, 0.0044767918611743965, 0....   \n",
      "183     5    C     5     5  [0.28401538678041793, 0.007281268085141282, 0....   \n",
      "\n",
      "           hue                                               data  \n",
      "0    15.127961  [0.383983240910995, 0.047983811066619766, 0.02...  \n",
      "1    24.457750  [0.28931174673063087, 0.022326599154748286, 0....  \n",
      "2    15.108004  [0.2828378056098332, 0.03678020997637223, 0.00...  \n",
      "3    15.929924  [0.35973695345914136, 0.06275699092305194, 0.0...  \n",
      "4    47.770220  [0.20021113881672867, 0.00792466795431179, 0.0...  \n",
      "..         ...                                                ...  \n",
      "179  17.152812  [0.34851618899648384, 0.03643704346651127, 0.0...  \n",
      "180  19.382589  [0.34524673790854987, 0.048394303635566654, 0....  \n",
      "181  25.546916  [0.25525496737629705, 0.011855235117309034, 0....  \n",
      "182  28.111444  [0.2276228615367406, 0.0044767918611743965, 0....  \n",
      "183  15.110961  [0.28401538678041793, 0.007281268085141282, 0....  \n",
      "\n",
      "[184 rows x 7 columns]\n"
     ]
    }
   ],
   "source": [
    "labels = []\n",
    "hu_moments = []\n",
    "samples=[]\n",
    "average_hue=[]\n",
    "for path in raw_cards_paths:\n",
    "    samples.append(ut.label_properties_raw(path))\n",
    "    image = cv2.imread(path)\n",
    "    binary_image,contours = ut.preprocess_image(image)\n",
    "    hue = ut.average_hue_of_contours(image, [contours[0]])\n",
    "    average_hue.append(hue)\n",
    "    moments = cv2.moments(contours[0])\n",
    "    hu_moments.append(cv2.HuMoments(moments).flatten())\n",
    "df_raw = pd.DataFrame(samples)\n",
    "df_raw[\"moments\"] = hu_moments\n",
    "df_raw[\"hue\"] = average_hue\n",
    "df_raw[\"data\"] = df_raw.apply(append_data,axis=1)\n",
    "print(df_raw)"
   ]
  },
  {
   "cell_type": "code",
   "execution_count": 24,
   "metadata": {},
   "outputs": [
    {
     "name": "stdout",
     "output_type": "stream",
     "text": [
      "(960, 8)\n"
     ]
    }
   ],
   "source": [
    "%matplotlib inline\n",
    "from sklearn.decomposition import PCA\n",
    "from sklearn.preprocessing import StandardScaler\n",
    "scaling=StandardScaler()\n",
    "scaling.fit(df_generated[\"data\"].tolist())\n",
    "Scaled_data=scaling.transform(df_generated[\"data\"].tolist())\n",
    "x=Scaled_data\n",
    "print(x.shape)"
   ]
  },
  {
   "cell_type": "code",
   "execution_count": 25,
   "metadata": {},
   "outputs": [
    {
     "data": {
      "text/plain": [
       "'X_test = x\\nX_train = scaling.transform(df_base_filtered[\"data\"].to_list())\\ny_test = df_raw_filtered[\"label\"].tolist()\\ny_train = df_base_filtered[\"label\"].tolist()'"
      ]
     },
     "execution_count": 25,
     "metadata": {},
     "output_type": "execute_result"
    }
   ],
   "source": [
    "X_train, X_test, y_train, y_test = train_test_split(x,df_generated[\"label\"].tolist(), test_size=0.2, random_state=42)\n",
    "\"\"\"X_test = x\n",
    "X_train = scaling.transform(df_base_filtered[\"data\"].to_list())\n",
    "y_test = df_raw_filtered[\"label\"].tolist()\n",
    "y_train = df_base_filtered[\"label\"].tolist()\"\"\"\n"
   ]
  },
  {
   "cell_type": "code",
   "execution_count": 26,
   "metadata": {},
   "outputs": [
    {
     "name": "stdout",
     "output_type": "stream",
     "text": [
      "Accuracy: 0.9791666666666666\n",
      "Classification Report:\n",
      "              precision    recall  f1-score   support\n",
      "\n",
      "           2       1.00      1.00      1.00         6\n",
      "          2B       1.00      1.00      1.00         6\n",
      "          2C       1.00      1.00      1.00         5\n",
      "          2S       1.00      1.00      1.00         4\n",
      "           3       0.91      1.00      0.95        10\n",
      "          3B       1.00      1.00      1.00         5\n",
      "          3S       1.00      1.00      1.00         9\n",
      "           4       1.00      1.00      1.00        10\n",
      "          4O       1.00      1.00      1.00         5\n",
      "          4S       1.00      1.00      1.00         8\n",
      "           5       1.00      0.92      0.96        12\n",
      "          5S       1.00      1.00      1.00         2\n",
      "           6       0.77      1.00      0.87        10\n",
      "           7       1.00      0.82      0.90        17\n",
      "          7S       1.00      1.00      1.00         8\n",
      "          8B       1.00      1.00      1.00         5\n",
      "          8C       1.00      1.00      1.00         5\n",
      "          8O       1.00      1.00      1.00         5\n",
      "          8S       1.00      1.00      1.00         6\n",
      "          9B       1.00      1.00      1.00         7\n",
      "          9C       1.00      1.00      1.00         8\n",
      "          9O       1.00      1.00      1.00         5\n",
      "          9S       1.00      1.00      1.00         2\n",
      "          AB       1.00      1.00      1.00         1\n",
      "          AC       1.00      1.00      1.00         6\n",
      "          AO       1.00      1.00      1.00         5\n",
      "          AS       1.00      1.00      1.00         3\n",
      "          RB       1.00      1.00      1.00         3\n",
      "          RC       1.00      1.00      1.00         6\n",
      "          RO       1.00      1.00      1.00         5\n",
      "          RS       1.00      1.00      1.00         3\n",
      "\n",
      "    accuracy                           0.98       192\n",
      "   macro avg       0.99      0.99      0.99       192\n",
      "weighted avg       0.98      0.98      0.98       192\n",
      "\n"
     ]
    }
   ],
   "source": [
    "from sklearn.ensemble import RandomForestClassifier\n",
    "f_clf = RandomForestClassifier(n_estimators=10)\n",
    "f_clf = f_clf.fit(X_train,y_train)\n",
    "predictions = f_clf.predict(X_test)\n",
    "print(\"Accuracy:\", accuracy_score(y_test, predictions))\n",
    "print(\"Classification Report:\")\n",
    "print(classification_report(y_test, predictions))"
   ]
  },
  {
   "cell_type": "code",
   "execution_count": 27,
   "metadata": {},
   "outputs": [
    {
     "data": {
      "text/plain": [
       "<sklearn.metrics._plot.confusion_matrix.ConfusionMatrixDisplay at 0x726b2f32e6d0>"
      ]
     },
     "execution_count": 27,
     "metadata": {},
     "output_type": "execute_result"
    },
    {
     "data": {
      "image/png": "[encoded data removed]",
      "text/plain": [
       "<Figure size 640x480 with 2 Axes>"
      ]
     },
     "metadata": {},
     "output_type": "display_data"
    }
   ],
   "source": [
    "from sklearn.metrics import confusion_matrix, ConfusionMatrixDisplay\n",
    "\n",
    "cm = confusion_matrix(y_test, predictions, labels=f_clf.classes_)\n",
    "disp = ConfusionMatrixDisplay(confusion_matrix=cm,\n",
    "                                  display_labels=f_clf.classes_)\n",
    "disp.plot()"
   ]
  },
  {
   "cell_type": "code",
   "execution_count": 28,
   "metadata": {},
   "outputs": [
    {
     "data": {
      "text/plain": [
       "['workingDirectory/scaler.sav']"
      ]
     },
     "execution_count": 28,
     "metadata": {},
     "output_type": "execute_result"
    }
   ],
   "source": [
    "import joblib\n",
    "joblib.dump(f_clf,ut.Config.working_directory+\"forest_classifier.sav\")\n",
    "joblib.dump(scaling,ut.Config.working_directory+\"scaler.sav\")"
   ]
  },
  {
   "cell_type": "code",
   "execution_count": 29,
   "metadata": {},
   "outputs": [
    {
     "name": "stdout",
     "output_type": "stream",
     "text": [
      "[ 3.77841009e-01  1.14804399e-01  4.99268412e-03  3.30446207e-03\n",
      "  1.34211879e-05  1.11840577e-03 -1.50341450e-07  7.04692877e+01]\n",
      "['7']\n"
     ]
    }
   ],
   "source": [
    "test_image = cv2.imread('Images/DatasetCropped/7B-1.jpg')\n",
    "#test_image = cv2.imread(work_dir+\"opencv_frame_0.png\")\n",
    "image = cv2.imread(path)\n",
    "binary_image,contours_test = ut.preprocess_image(test_image)\n",
    "hue = ut.average_hue_of_contours(test_image, [contours_test[0]])\n",
    "moments = cv2.moments(contours_test[0])\n",
    "hu_moments_test= cv2.HuMoments(moments).flatten()\n",
    "data = hu_moments_test.copy()\n",
    "data = np.append(data,hue)\n",
    "print(data)\n",
    "data=scaling.transform(data.reshape(1, -1))\n",
    "result=f_clf.predict(data)\n",
    "print(result)"
   ]
  },
  {
   "cell_type": "code",
   "execution_count": 30,
   "metadata": {},
   "outputs": [
    {
     "name": "stdout",
     "output_type": "stream",
     "text": [
      "['7']\n"
     ]
    }
   ],
   "source": [
    "counter=0\n",
    "if result in ['O','B','S','C']:\n",
    "    counter=1\n",
    "    for contour in contours_test[1:7]:\n",
    "        print(counter)\n",
    "        moments = cv2.moments(contour)\n",
    "        hu_moments_test= cv2.HuMoments(moments).flatten()\n",
    "        hue = ut.average_hue_of_contours(test_image, [contour])\n",
    "        data = hu_moments_test.copy()\n",
    "        data = np.append(data,hue)\n",
    "        data=scaling.transform(data.reshape(1, -1))\n",
    "        if f_clf.predict(data)== result:\n",
    "            counter+=1\n",
    "        else: break    \n",
    "if(counter==0):\n",
    "    counter=''\n",
    "\n",
    "print(\"{}{}\".format(result,counter))"
   ]
  }
 ],
 "metadata": {
  "kernelspec": {
   "display_name": "project_venv",
   "language": "python",
   "name": "python3"
  },
  "language_info": {
   "codemirror_mode": {
    "name": "ipython",
    "version": 3
   },
   "file_extension": ".py",
   "mimetype": "text/x-python",
   "name": "python",
   "nbconvert_exporter": "python",
   "pygments_lexer": "ipython3",
   "version": "3.11.5"
  }
 },
 "nbformat": 4,
 "nbformat_minor": 2
}
