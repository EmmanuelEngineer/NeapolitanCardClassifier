{
 "cells": [
  {
   "cell_type": "code",
   "execution_count": 1,
   "metadata": {},
   "outputs": [
    {
     "data": {
      "text/plain": [
       "'def perspective_change(image):\\n    rows, cols = image.shape\\n    M = np.float32([[1,   0, 0], [0.5, 1, 0], [0,   0, 1]])\\n    sheared_img = cv2.warpPerspective(image, M, (int(cols*1.5), int(rows*1.5)))\\n    return sheared_img'"
      ]
     },
     "execution_count": 1,
     "metadata": {},
     "output_type": "execute_result"
    }
   ],
   "source": [
    "import utilities as ut\n",
    "import cv2\n",
    "\n",
    "\"\"\"def perspective_change(image):\n",
    "    rows, cols = image.shape\n",
    "    M = np.float32([[1,   0, 0], [0.5, 1, 0], [0,   0, 1]])\n",
    "    sheared_img = cv2.warpPerspective(image, M, (int(cols*1.5), int(rows*1.5)))\n",
    "    return sheared_img\"\"\"\n"
   ]
  },
  {
   "cell_type": "code",
   "execution_count": 2,
   "metadata": {},
   "outputs": [],
   "source": [
    "workingDirectory = \"workingDirectory/\"\n",
    "images_paths = ut.images_paths(\"Images/DatasetCropped/\")"
   ]
  },
  {
   "cell_type": "code",
   "execution_count": 3,
   "metadata": {},
   "outputs": [
    {
     "ename": "KeyboardInterrupt",
     "evalue": "",
     "output_type": "error",
     "traceback": [
      "\u001b[0;31m---------------------------------------------------------------------------\u001b[0m",
      "\u001b[0;31mKeyboardInterrupt\u001b[0m                         Traceback (most recent call last)",
      "\u001b[0;32m/tmp/ipykernel_51244/3968214037.py\u001b[0m in \u001b[0;36m<module>\u001b[0;34m\u001b[0m\n\u001b[1;32m      8\u001b[0m     \u001b[0my\u001b[0m \u001b[0;34m=\u001b[0m \u001b[0mlabel_properties\u001b[0m\u001b[0;34m[\u001b[0m\u001b[0;34m\"seed\"\u001b[0m\u001b[0;34m]\u001b[0m\u001b[0;34m\u001b[0m\u001b[0;34m\u001b[0m\u001b[0m\n\u001b[1;32m      9\u001b[0m     \u001b[0mz\u001b[0m\u001b[0;34m=\u001b[0m \u001b[0mlabel_properties\u001b[0m\u001b[0;34m[\u001b[0m\u001b[0;34m\"index\"\u001b[0m\u001b[0;34m]\u001b[0m\u001b[0;34m\u001b[0m\u001b[0;34m\u001b[0m\u001b[0m\n\u001b[0;32m---> 10\u001b[0;31m     \u001b[0mcv2\u001b[0m\u001b[0;34m.\u001b[0m\u001b[0mimwrite\u001b[0m\u001b[0;34m(\u001b[0m\u001b[0;34mf\"{workingDirectory}{x}{y}-{z}.jpg\"\u001b[0m\u001b[0;34m,\u001b[0m\u001b[0mimage_with_contours\u001b[0m\u001b[0;34m)\u001b[0m\u001b[0;34m\u001b[0m\u001b[0;34m\u001b[0m\u001b[0m\n\u001b[0m",
      "\u001b[0;31mKeyboardInterrupt\u001b[0m: "
     ]
    }
   ],
   "source": [
    "\n",
    "for path in images_paths:\n",
    "    image = cv2.imread(path)\n",
    "    contours = ut.preprocess_image(image)\n",
    "    image_with_contours = image.copy()\n",
    "    cv2.drawContours(image_with_contours, contours[0], -1, (0, 255, 0), 2)  \n",
    "    label_properties = ut.label_properties(path)\n",
    "    x= label_properties[\"value\"]\n",
    "    y = label_properties[\"seed\"]\n",
    "    z= label_properties[\"index\"]\n",
    "    cv2.imwrite(f\"{workingDirectory}{x}{y}-{z}.jpg\",image_with_contours)\n"
   ]
  },
  {
   "cell_type": "code",
   "execution_count": 4,
   "metadata": {},
   "outputs": [],
   "source": [
    "for path in images_paths:\n",
    "    image = cv2.imread(path)\n",
    "    contours, binary_image = ut.preprocess_image(image)\n",
    "    cv2.drawContours(binary_image, contours[0], -1, (0, 255, 0), 2)  \n",
    "    label_properties = ut.label_properties(path)\n",
    "    x= label_properties[\"value\"]\n",
    "    y = label_properties[\"seed\"]\n",
    "    z= label_properties[\"index\"]\n",
    "    cv2.imwrite(f\"{workingDirectory}{x}{y}-{z}.jpg\",binary_image)"
   ]
  }
 ],
 "metadata": {
  "kernelspec": {
   "display_name": "Python 3.10.4 64-bit",
   "language": "python",
   "name": "python3"
  },
  "language_info": {
   "codemirror_mode": {
    "name": "ipython",
    "version": 3
   },
   "file_extension": ".py",
   "mimetype": "text/x-python",
   "name": "python",
   "nbconvert_exporter": "python",
   "pygments_lexer": "ipython3",
   "version": "3.7.10"
  },
  "vscode": {
   "interpreter": {
    "hash": "e7370f93d1d0cde622a1f8e1c04877d8463912d04d973331ad4851f04de6915a"
   }
  }
 },
 "nbformat": 4,
 "nbformat_minor": 2
}
