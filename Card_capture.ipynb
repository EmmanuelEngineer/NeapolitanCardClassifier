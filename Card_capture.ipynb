{
 "cells": [
  {
   "cell_type": "code",
   "execution_count": null,
   "metadata": {},
   "outputs": [],
   "source": [
    "import cv2\n",
    "import numpy as np\n",
    "\n",
    "img = cv2.\n",
    "# Repeated Closing operation to remove text from the document.\n",
    "kernel = np.ones((5,5),np.uint8)\n",
    "img = cv2.morphologyEx(img, cv2.MORPH_CLOSE, kernel, iterations= 3)"
   ]
  }
 ],
 "metadata": {
  "kernelspec": {
   "display_name": "project_venv",
   "language": "python",
   "name": "python3"
  },
  "language_info": {
   "name": "python",
   "version": "3.7.10"
  }
 },
 "nbformat": 4,
 "nbformat_minor": 2
}
